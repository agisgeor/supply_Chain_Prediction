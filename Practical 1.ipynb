{
 "cells": [
  {
   "cell_type": "code",
   "execution_count": 3,
   "metadata": {},
   "outputs": [],
   "source": [
    "import numpy as np\n",
    "np.random.seed(seed = None)"
   ]
  },
  {
   "cell_type": "markdown",
   "metadata": {},
   "source": [
    "# SimInvDynNonPerish\n",
    "This is the first version of the algorithm, without taking into acount perishabillity of the items"
   ]
  },
  {
   "cell_type": "code",
   "execution_count": 4,
   "metadata": {},
   "outputs": [],
   "source": [
    "def get_demand(i):\n",
    "    # in order to each time generate a different number we are going to use i as the date number \n",
    "    #np.random.seed(i)\n",
    "    return np.random.poisson(4,1)\n",
    "\n",
    "def SimInDynNonPerish (S,It,i):\n",
    "    #determine demand\n",
    "    dt = 0\n",
    "    #order quantity\n",
    "    Qt = 0\n",
    "    fillrate = 0\n",
    "    items_sold = 0\n",
    "    fillrates = []\n",
    "    for i in range (0,i):\n",
    "        Qt = S-It \n",
    "        if Qt <0: #Because we cannot return items\n",
    "            Qt = 0\n",
    "        dt = get_demand(i)\n",
    "        #print(demand)\n",
    "        #set demand level if there is more demand than orders It=0\n",
    "        if dt>It:\n",
    "            items_sold = It\n",
    "            It=0\n",
    "        else:\n",
    "            It = It-dt\n",
    "            items_sold = dt\n",
    "        if dt>0:\n",
    "            fillrate = items_sold/dt\n",
    "        else:\n",
    "            fillrate = 1\n",
    "        fillrates.append(fillrate)\n",
    "        It = It + Qt\n",
    "        \n",
    "    return fillrates\n",
    "        \n",
    "        \n",
    "    "
   ]
  },
  {
   "cell_type": "code",
   "execution_count": 5,
   "metadata": {},
   "outputs": [
    {
     "data": {
      "text/plain": [
       "array([0.99720483])"
      ]
     },
     "execution_count": 5,
     "metadata": {},
     "output_type": "execute_result"
    }
   ],
   "source": [
    "fillrate_lst = SimInDynNonPerish(14,10,365)\n",
    "np.mean(fillrate_lst)"
   ]
  },
  {
   "cell_type": "markdown",
   "metadata": {},
   "source": [
    "# Extension Perishabillity "
   ]
  },
  {
   "cell_type": "code",
   "execution_count": 271,
   "metadata": {},
   "outputs": [],
   "source": [
    "#S is order up to level, i is the time period, f is the fraction of fifo consumers\n",
    "#Set stock of first day to 14\n",
    "def determine_type_consumer(f,dt):\n",
    "    #To determine the type of consumer we need the freaction of costumers of FIFO type f and the dt\n",
    "    fifo_consumers = np.random.binomial(dt,f)\n",
    "    return [fifo_consumers,dt-fifo_consumers]\n",
    "\n",
    "def get_remaining_stock(s, fifo, lifo):\n",
    "    Stock = s.copy()\n",
    "    for i in range(len(Stock)):\n",
    "        #print(i,len(Stock))\n",
    "        #if fifo is greaer than s substract from fifo and set the longer to expire Stock to 0\n",
    "        tmp_f = Stock[i]\n",
    "        tmp_l = Stock[len(Stock) - i-1]\n",
    "        if fifo > Stock[i]:\n",
    "            Stock[i] = 0\n",
    "            fifo = fifo - tmp_f\n",
    "            \n",
    "        else:\n",
    "            Stock[i] = Stock[i] - fifo\n",
    "            fifo = 0\n",
    "            \n",
    "        if lifo > Stock[- i-1]:\n",
    "            Stock[-i-1] = 0\n",
    "            lifo = lifo - tmp_l\n",
    "            \n",
    "        else:\n",
    "            Stock[-i-1] = Stock[-i-1] - lifo\n",
    "            lifo = 0\n",
    "        \n",
    "    return Stock\n",
    "    \n",
    "def SimInDynPerish (S,i,It=14,f=0.5, cw=100, cs=500):\n",
    "    #determine demand\n",
    "    dt = 0\n",
    "    #order quantity\n",
    "    Qt = 0\n",
    "    fillrate = 0\n",
    "    items_sold = 0\n",
    "    #assume that in place 0 of the list is the most recent product and place 3 the oldest ones\n",
    "    Stock=[It,0,0,0]\n",
    "    fillrates = []\n",
    "    #waste percent, list of percentage wast per day \n",
    "    waste = 0\n",
    "    waste_sum = 0\n",
    "    #get a count of total number of products sold \n",
    "    total_products = It\n",
    "    #get Average cost per day\n",
    "    avg_cost_day = []\n",
    "    \n",
    "    for i in range (0,i):\n",
    "        #day start \n",
    "        #product shortage, updated daily\n",
    "        waste = 0\n",
    "        prod_short = 0\n",
    "        #we order up to level S\n",
    "        Qt = S - sum(Stock)\n",
    "        \n",
    "        if Qt <0: #Because we cannot return items\n",
    "            Qt = 0\n",
    "        #determine day demand\n",
    "        dt = get_demand(i)\n",
    "        total_products += dt\n",
    "        #determine consumer type number \n",
    "        fifo,lifo = determine_type_consumer(f,dt)\n",
    "        #print(demand)\n",
    "        #set demand level if there is more demand than Stock\n",
    "        if dt>= sum(Stock):\n",
    "            items_sold = sum(Stock)\n",
    "            prod_short = dt - sum(Stock)\n",
    "            Stock = [0,0,0,0]\n",
    "        else:\n",
    "        #fifo consumers take fifo amount of the most recent products\n",
    "        #and lifo consumers take lifo amount of the oldest products \n",
    "            Stock = get_remaining_stock(Stock,fifo,lifo)\n",
    "            items_sold = dt\n",
    "        \n",
    "        if dt>0:\n",
    "            fillrate = items_sold/dt\n",
    "        else:\n",
    "            fillrate = 1\n",
    "        fillrates.append(fillrate)\n",
    "        #waste, pop the remaing old products\n",
    "        waste += Stock.pop()\n",
    "        waste_sum+=waste\n",
    "        #add order to stock\n",
    "        Stock = [Qt] + Stock\n",
    "        avg_cost_day.append(waste*cw + prod_short * cs)\n",
    "        #print(waste,prod_short)\n",
    "    total_waste_per = 100 - abs((waste_sum - total_products)/total_products) *100\n",
    "    print(waste_sum, total_products)\n",
    "    return (np.mean(fillrates),total_waste_per,np.mean(avg_cost_day))"
   ]
  },
  {
   "cell_type": "code",
   "execution_count": 287,
   "metadata": {},
   "outputs": [
    {
     "name": "stdout",
     "output_type": "stream",
     "text": [
      "[83] [1494]\n"
     ]
    },
    {
     "data": {
      "text/plain": [
       "(array([0.98145822]), array([5.55555556]), 91.23287671232876)"
      ]
     },
     "execution_count": 287,
     "metadata": {},
     "output_type": "execute_result"
    }
   ],
   "source": [
    "SimInDynPerish(12,365)"
   ]
  }
 ],
 "metadata": {
  "kernelspec": {
   "display_name": "Python 3",
   "language": "python",
   "name": "python3"
  },
  "language_info": {
   "codemirror_mode": {
    "name": "ipython",
    "version": 3
   },
   "file_extension": ".py",
   "mimetype": "text/x-python",
   "name": "python",
   "nbconvert_exporter": "python",
   "pygments_lexer": "ipython3",
   "version": "3.6.5"
  }
 },
 "nbformat": 4,
 "nbformat_minor": 2
}
